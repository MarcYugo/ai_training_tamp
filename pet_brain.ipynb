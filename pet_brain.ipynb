{
 "cells": [
  {
   "cell_type": "markdown",
   "id": "c5bdac27-bf4b-49cb-9a42-4b3fa51f25a0",
   "metadata": {},
   "source": [
    "### 依赖安装 shell 脚本 repes_install.sh\n",
    "```bash\n",
    "# 内容\n",
    "pip install nibabel\n",
    "pip install albumentations\n",
    "mkdir logs model\n",
    "```"
   ]
  },
  {
   "cell_type": "code",
   "execution_count": 24,
   "id": "71d52cc2-60cc-4e25-aa06-b041adeaaffd",
   "metadata": {
    "execution": {
     "iopub.execute_input": "2023-08-16T06:25:05.226396Z",
     "iopub.status.busy": "2023-08-16T06:25:05.225765Z",
     "iopub.status.idle": "2023-08-16T06:25:11.535531Z",
     "shell.execute_reply": "2023-08-16T06:25:11.534584Z",
     "shell.execute_reply.started": "2023-08-16T06:25:05.226366Z"
    },
    "tags": []
   },
   "outputs": [
    {
     "name": "stdout",
     "output_type": "stream",
     "text": [
      "Looking in indexes: https://mirrors.cloud.aliyuncs.com/pypi/simple\n",
      "Requirement already satisfied: nibabel in /home/pai/lib/python3.9/site-packages (5.1.0)\n",
      "Requirement already satisfied: packaging>=17 in /home/pai/lib/python3.9/site-packages (from nibabel) (23.0)\n",
      "Requirement already satisfied: numpy>=1.19 in /home/pai/lib/python3.9/site-packages (from nibabel) (1.23.5)\n",
      "\u001b[33mWARNING: Running pip as the 'root' user can result in broken permissions and conflicting behaviour with the system package manager. It is recommended to use a virtual environment instead: https://pip.pypa.io/warnings/venv\u001b[0m\u001b[33m\n",
      "\u001b[0mLooking in indexes: https://mirrors.cloud.aliyuncs.com/pypi/simple\n",
      "Requirement already satisfied: albumentations in /home/pai/lib/python3.9/site-packages (1.3.0)\n",
      "Requirement already satisfied: qudida>=0.0.4 in /home/pai/lib/python3.9/site-packages (from albumentations) (0.0.4)\n",
      "Requirement already satisfied: scipy in /home/pai/lib/python3.9/site-packages (from albumentations) (1.9.1)\n",
      "Requirement already satisfied: opencv-python-headless>=4.1.1 in /home/pai/lib/python3.9/site-packages (from albumentations) (4.6.0.66)\n",
      "Requirement already satisfied: PyYAML in /home/pai/lib/python3.9/site-packages (from albumentations) (6.0)\n",
      "Requirement already satisfied: numpy>=1.11.1 in /home/pai/lib/python3.9/site-packages (from albumentations) (1.23.5)\n",
      "Requirement already satisfied: scikit-image>=0.16.1 in /home/pai/lib/python3.9/site-packages (from albumentations) (0.20.0)\n",
      "Requirement already satisfied: scikit-learn>=0.19.1 in /home/pai/lib/python3.9/site-packages (from qudida>=0.0.4->albumentations) (1.2.2)\n",
      "Requirement already satisfied: typing-extensions in /home/pai/lib/python3.9/site-packages (from qudida>=0.0.4->albumentations) (4.5.0)\n",
      "Requirement already satisfied: pillow>=9.0.1 in /home/pai/lib/python3.9/site-packages (from scikit-image>=0.16.1->albumentations) (9.5.0)\n",
      "Requirement already satisfied: PyWavelets>=1.1.1 in /home/pai/lib/python3.9/site-packages (from scikit-image>=0.16.1->albumentations) (1.4.1)\n",
      "Requirement already satisfied: tifffile>=2019.7.26 in /home/pai/lib/python3.9/site-packages (from scikit-image>=0.16.1->albumentations) (2023.3.21)\n",
      "Requirement already satisfied: packaging>=20.0 in /home/pai/lib/python3.9/site-packages (from scikit-image>=0.16.1->albumentations) (23.0)\n",
      "Requirement already satisfied: lazy_loader>=0.1 in /home/pai/lib/python3.9/site-packages (from scikit-image>=0.16.1->albumentations) (0.2)\n",
      "Requirement already satisfied: imageio>=2.4.1 in /home/pai/lib/python3.9/site-packages (from scikit-image>=0.16.1->albumentations) (2.27.0)\n",
      "Requirement already satisfied: networkx>=2.8 in /home/pai/lib/python3.9/site-packages (from scikit-image>=0.16.1->albumentations) (3.1)\n",
      "Requirement already satisfied: threadpoolctl>=2.0.0 in /home/pai/lib/python3.9/site-packages (from scikit-learn>=0.19.1->qudida>=0.0.4->albumentations) (3.1.0)\n",
      "Requirement already satisfied: joblib>=1.1.1 in /home/pai/lib/python3.9/site-packages (from scikit-learn>=0.19.1->qudida>=0.0.4->albumentations) (1.2.0)\n",
      "\u001b[33mWARNING: Running pip as the 'root' user can result in broken permissions and conflicting behaviour with the system package manager. It is recommended to use a virtual environment instead: https://pip.pypa.io/warnings/venv\u001b[0m\u001b[33m\n",
      "\u001b[0m"
     ]
    }
   ],
   "source": [
    "!bash repes_install.sh"
   ]
  },
  {
   "cell_type": "markdown",
   "id": "2bf6033d-c041-4c00-8a71-ad2a8257ee91",
   "metadata": {},
   "source": [
    "### 数据载入与增强\n",
    "\n",
    "+ 数据增强手段使用了 中心随机裁剪、水平翻转和旋转等。\n",
    "+ 训练集、验证集和测试集的 batch size 均设置为 2"
   ]
  },
  {
   "cell_type": "code",
   "execution_count": 59,
   "id": "e0535d13-37b3-4cca-9c05-d91420b2661e",
   "metadata": {
    "ExecutionIndicator": {
     "show": false
    },
    "execution": {
     "iopub.execute_input": "2023-08-16T07:23:27.831834Z",
     "iopub.status.busy": "2023-08-16T07:23:27.831393Z",
     "iopub.status.idle": "2023-08-16T07:23:27.847678Z",
     "shell.execute_reply": "2023-08-16T07:23:27.847023Z",
     "shell.execute_reply.started": "2023-08-16T07:23:27.831809Z"
    },
    "tags": []
   },
   "outputs": [],
   "source": [
    "import os, sys, glob, argparse\n",
    "import pandas as pd\n",
    "import numpy as np\n",
    "from tqdm import tqdm\n",
    "\n",
    "import cv2\n",
    "from PIL import Image\n",
    "\n",
    "import torch\n",
    "torch.manual_seed(0)\n",
    "torch.backends.cudnn.deterministic = False\n",
    "torch.backends.cudnn.benchmark = True\n",
    "\n",
    "import torchvision.models as models\n",
    "import torchvision.datasets as datasets\n",
    "import torch.nn as nn\n",
    "import torch.nn.functional as F\n",
    "import torch.optim as optim\n",
    "from torch.autograd import Variable\n",
    "from torch.utils.data.dataset import Dataset\n",
    "\n",
    "import nibabel as nib\n",
    "from nibabel.viewers import OrthoSlicer3D\n",
    "\n",
    "train_path = glob.glob('./pet_brain/Train/*/*')\n",
    "test_path = glob.glob('./pet_brain/Test/*')\n",
    "\n",
    "np.random.shuffle(train_path)\n",
    "np.random.shuffle(test_path)\n",
    "\n",
    "DATA_CACHE = {}\n",
    "class XunFeiDataset(Dataset):\n",
    "    def __init__(self, img_path, transform=None):\n",
    "        self.img_path = img_path\n",
    "        if transform is not None:\n",
    "            self.transform = transform\n",
    "        else:\n",
    "            self.transform = None\n",
    "    \n",
    "    def __getitem__(self, index):\n",
    "        if self.img_path[index] in DATA_CACHE:\n",
    "            img = DATA_CACHE[self.img_path[index]]\n",
    "        else:\n",
    "            img = nib.load(self.img_path[index]) \n",
    "            img = img.dataobj[:,:,:, 0]\n",
    "            DATA_CACHE[self.img_path[index]] = img\n",
    "        \n",
    "        # 随机选择一些通道            \n",
    "        idx = np.random.choice(range(img.shape[-1]), 50)\n",
    "        img = img[:, :, idx]\n",
    "        img = img.astype(np.float32)\n",
    "\n",
    "        if self.transform is not None:\n",
    "            img = self.transform(image = img)['image']\n",
    "        \n",
    "        img = img.transpose([2,0,1])\n",
    "        return img,torch.from_numpy(np.array(int('NC' in self.img_path[index])))\n",
    "    \n",
    "    def __len__(self):\n",
    "        return len(self.img_path)\n",
    "        \n",
    "import albumentations as A\n",
    "train_loader = torch.utils.data.DataLoader(\n",
    "    XunFeiDataset(train_path[:-10],\n",
    "            A.Compose([\n",
    "            A.RandomRotate90(),\n",
    "            A.RandomCrop(120, 120),\n",
    "            A.HorizontalFlip(p=0.5),\n",
    "            A.RandomBrightnessContrast(p=0.5),\n",
    "        ])\n",
    "    ), batch_size=2, shuffle=True, num_workers=1, pin_memory=False\n",
    ")\n",
    "\n",
    "val_loader = torch.utils.data.DataLoader(\n",
    "    XunFeiDataset(train_path[-10:],\n",
    "            A.Compose([\n",
    "            A.RandomCrop(120, 120),\n",
    "        ])\n",
    "    ), batch_size=2, shuffle=False, num_workers=1, pin_memory=False\n",
    ")\n",
    "\n",
    "test_loader = torch.utils.data.DataLoader(\n",
    "    XunFeiDataset(test_path,\n",
    "            A.Compose([\n",
    "            A.RandomCrop(128, 128),\n",
    "            A.HorizontalFlip(p=0.5),\n",
    "            A.RandomBrightnessContrast(p=0.5),\n",
    "        ])\n",
    "    ), batch_size=2, shuffle=False, num_workers=1, pin_memory=False\n",
    ")\n"
   ]
  },
  {
   "cell_type": "markdown",
   "id": "cda896c8-9a24-4ba2-8d8e-589fd7a82d48",
   "metadata": {},
   "source": [
    "### 训练与验证"
   ]
  },
  {
   "cell_type": "code",
   "execution_count": 16,
   "id": "d3dfdb37-513f-402d-af36-25ff173a783c",
   "metadata": {
    "ExecutionIndicator": {
     "show": false
    },
    "execution": {
     "iopub.execute_input": "2023-08-16T06:12:24.595001Z",
     "iopub.status.busy": "2023-08-16T06:12:24.594498Z",
     "iopub.status.idle": "2023-08-16T06:12:24.602105Z",
     "shell.execute_reply": "2023-08-16T06:12:24.601384Z",
     "shell.execute_reply.started": "2023-08-16T06:12:24.594969Z"
    },
    "tags": []
   },
   "outputs": [],
   "source": [
    "def train(train_loader, model, criterion, optimizer):\n",
    "    model.train()\n",
    "    train_loss = 0.0\n",
    "    for i, (input, target) in enumerate(train_loader):\n",
    "        input = input.cuda(non_blocking=True)\n",
    "        target = target.cuda(non_blocking=True)\n",
    "        output = model(input)\n",
    "        loss = criterion(output, target)\n",
    "\n",
    "        optimizer.zero_grad()\n",
    "        loss.backward()\n",
    "        optimizer.step()\n",
    "            \n",
    "        train_loss += loss.item()\n",
    "    return train_loss/len(train_loader)\n",
    "            \n",
    "def validate(val_loader, model, criterion):\n",
    "    model.eval()\n",
    "    val_acc = 0.0\n",
    "    \n",
    "    with torch.no_grad():\n",
    "        for i, (input, target) in enumerate(val_loader):\n",
    "            input = input.cuda()\n",
    "            target = target.cuda()\n",
    "            output = model(input)\n",
    "            loss = criterion(output, target)\n",
    "            val_acc += (output.argmax(1) == target).sum().item()\n",
    "            \n",
    "    return val_acc / len(val_loader.dataset)"
   ]
  },
  {
   "cell_type": "markdown",
   "id": "cdc50d11-a8f0-406b-9e1c-e777c1133e9c",
   "metadata": {},
   "source": [
    "### 定义模型"
   ]
  },
  {
   "cell_type": "code",
   "execution_count": 49,
   "id": "b892b7f0-1c84-4b41-8a83-c65df3e46fac",
   "metadata": {
    "ExecutionIndicator": {
     "show": true
    },
    "execution": {
     "iopub.execute_input": "2023-08-16T07:04:58.976997Z",
     "iopub.status.busy": "2023-08-16T07:04:58.976148Z",
     "iopub.status.idle": "2023-08-16T07:05:00.069320Z",
     "shell.execute_reply": "2023-08-16T07:05:00.068563Z",
     "shell.execute_reply.started": "2023-08-16T07:04:58.976969Z"
    },
    "tags": []
   },
   "outputs": [],
   "source": [
    "pretrain_models = {\n",
    "    'resnet18': models.resnet18(weights=models.ResNet18_Weights.IMAGENET1K_V1),\n",
    "    'resnet34': models.resnet34(weights=models.ResNet34_Weights.IMAGENET1K_V1),\n",
    "    'resnet50': models.resnet50(weights=models.ResNet50_Weights.IMAGENET1K_V1),\n",
    "}\n",
    "\n",
    "class XunFeiNet(nn.Module):\n",
    "    def __init__(self,pretrain='resnet18'):\n",
    "        super(XunFeiNet, self).__init__()\n",
    "                \n",
    "        model = pretrain_models[pretrain]\n",
    "        model.conv1 = torch.nn.Conv2d(50, 64, kernel_size=(7, 7), stride=(2, 2), padding=(3, 3), bias=False)\n",
    "        model.avgpool = nn.AdaptiveAvgPool2d(1)\n",
    "        if pretrain != 'resnet50':\n",
    "            model.fc = nn.Linear(512, 2)\n",
    "        else:\n",
    "            model.fc = nn.Linear(2048, 2)\n",
    "        self.net = model\n",
    "        \n",
    "    def forward(self, img):        \n",
    "        out = self.net(img)\n",
    "        return out"
   ]
  },
  {
   "cell_type": "markdown",
   "id": "7eaddec9-22c5-488d-88ce-9255fc645932",
   "metadata": {},
   "source": [
    "### 进行训练并记录\n",
    "分别使用 resnet18，resnet34，resnet50 的预训练模型进行训练和识别任务。\n",
    "\n",
    "+ 训练结果\n",
    "\n",
    "|模型|学习率|best val accuracy(%)|\n",
    "|-|-|-|\n",
    "|resnet18|0.0001|100.0%|\n",
    "|resnet34|0.0001|90.0%|\n",
    "||0.0005|70.0%|\n",
    "|resnet50|0.0001|90.0%|\n",
    "||0.0005|90.0%|\n",
    "||0.001|80.0%|"
   ]
  },
  {
   "cell_type": "code",
   "execution_count": 39,
   "id": "688e5bbb-5472-4715-bc6b-46e50cd6ab32",
   "metadata": {
    "ExecutionIndicator": {
     "show": true
    },
    "execution": {
     "iopub.execute_input": "2023-08-16T06:53:20.297271Z",
     "iopub.status.busy": "2023-08-16T06:53:20.296445Z",
     "iopub.status.idle": "2023-08-16T06:53:20.304030Z",
     "shell.execute_reply": "2023-08-16T06:53:20.303132Z",
     "shell.execute_reply.started": "2023-08-16T06:53:20.297240Z"
    },
    "tags": []
   },
   "outputs": [],
   "source": [
    "from datetime import datetime\n",
    "class HisRecorder:\n",
    "    def __init__(self,log_name='test'):\n",
    "        self.name = log_name\n",
    "        self.history = {}\n",
    "    def record_info(self,epoch,train_loss,train_acc,val_acc):\n",
    "        self.history[epoch] = (train_loss,train_acc,val_acc)\n",
    "    def save_hist(self):\n",
    "        t = datetime.now().strftime('%Y-%m-%d-%H-%M')\n",
    "        fname = self.name + '_' + t\n",
    "        f = open('./logs/'+fname,'w',encoding='utf-8')\n",
    "        f.write(str(self.history))\n",
    "        f.close()\n",
    "    def clean_hist(self):\n",
    "        self.history = {}\n",
    "\n",
    "def save_check(model,optim,sche,best_acc,epoch,name='test'):\n",
    "    stat = {\n",
    "            'epoch': epoch,\n",
    "            'state_dict': model.state_dict(),\n",
    "            'best_acc': best_acc,\n",
    "            'optimizer' : optim.state_dict(),\n",
    "            'scheduler' : sche.state_dict()\n",
    "        }\n",
    "    torch.save(stat,f'./model/{name}_best.pth.tar')"
   ]
  },
  {
   "cell_type": "markdown",
   "id": "133d6de3-2ec9-4694-b35f-aa5ddc79e95d",
   "metadata": {},
   "source": [
    "#### 训练设置\n",
    "一共迭代训练 100 次。起始学习率 设置为 0.0001，之后在训练中使用 CosineAnnealingLR 对学习率进行调整。优化器 使用 AdamW。\n"
   ]
  },
  {
   "cell_type": "code",
   "execution_count": 60,
   "id": "39553c9f-b8ff-4f24-ad9c-79b898819415",
   "metadata": {
    "ExecutionIndicator": {
     "show": true
    },
    "execution": {
     "iopub.execute_input": "2023-08-16T07:23:47.815212Z",
     "iopub.status.busy": "2023-08-16T07:23:47.814713Z",
     "iopub.status.idle": "2023-08-16T07:23:47.828176Z",
     "shell.execute_reply": "2023-08-16T07:23:47.827561Z",
     "shell.execute_reply.started": "2023-08-16T07:23:47.815179Z"
    },
    "tags": []
   },
   "outputs": [],
   "source": [
    "pretrain = 'resnet18'\n",
    "epochs = 100\n",
    "model = XunFeiNet(pretrain)\n",
    "model = model.to('cuda')\n",
    "criterion = nn.CrossEntropyLoss().cuda()\n",
    "optimizer = torch.optim.AdamW(model.parameters(), 0.0001)\n",
    "scheduler = torch.optim.lr_scheduler.CosineAnnealingLR(optimizer,epochs+10)\n",
    "recorder = HisRecorder(pretrain)"
   ]
  },
  {
   "cell_type": "code",
   "execution_count": null,
   "id": "cf5815ad-b448-449a-ab64-1d3d63a0efed",
   "metadata": {
    "ExecutionIndicator": {
     "show": true
    },
    "execution": {
     "iopub.execute_input": "2023-08-16T07:23:48.444649Z",
     "iopub.status.busy": "2023-08-16T07:23:48.444147Z",
     "iopub.status.idle": "2023-08-16T07:27:43.325962Z",
     "shell.execute_reply": "2023-08-16T07:27:43.325101Z",
     "shell.execute_reply.started": "2023-08-16T07:23:48.444620Z"
    },
    "scrolled": true,
    "tags": []
   },
   "outputs": [],
   "source": [
    "best_acc = 0.\n",
    "for epoch  in range(1,epochs+1):\n",
    "    train_loss = train(train_loader, model, criterion, optimizer)\n",
    "    val_acc  = validate(val_loader, model, criterion)\n",
    "    train_acc = validate(train_loader, model, criterion)\n",
    "    if best_acc <= val_acc:\n",
    "        best_acc = val_acc\n",
    "        save_check(model,optimizer,scheduler,best_acc,epoch,pretrain)\n",
    "    scheduler.step()\n",
    "    recorder.record_info(epoch,train_loss,train_acc,val_acc)\n",
    "    print(f'Epoch: {epoch:03}  Train Loss: {train_loss:.8f}  Train Acc: {train_acc:.6f}  Val Acc: {val_acc:.6f}')\n",
    "print(f'Best acc: {best_acc}')"
   ]
  },
  {
   "cell_type": "code",
   "execution_count": 45,
   "id": "a9253a87-b833-4281-81df-04c45c6348b0",
   "metadata": {
    "execution": {
     "iopub.execute_input": "2023-08-16T07:01:34.389844Z",
     "iopub.status.busy": "2023-08-16T07:01:34.389341Z",
     "iopub.status.idle": "2023-08-16T07:01:34.394357Z",
     "shell.execute_reply": "2023-08-16T07:01:34.393580Z",
     "shell.execute_reply.started": "2023-08-16T07:01:34.389813Z"
    },
    "tags": []
   },
   "outputs": [],
   "source": [
    "recorder.save_hist() # 训练日志"
   ]
  },
  {
   "cell_type": "markdown",
   "id": "5e23c5a7-5e4e-4220-8ad5-147c713f2991",
   "metadata": {},
   "source": [
    "### 训练曲线可视化"
   ]
  },
  {
   "cell_type": "code",
   "execution_count": 62,
   "id": "2625999c-a9f5-4627-88b8-1efdba278f12",
   "metadata": {
    "execution": {
     "iopub.execute_input": "2023-08-16T07:28:09.849366Z",
     "iopub.status.busy": "2023-08-16T07:28:09.848854Z",
     "iopub.status.idle": "2023-08-16T07:28:12.397779Z",
     "shell.execute_reply": "2023-08-16T07:28:12.396864Z",
     "shell.execute_reply.started": "2023-08-16T07:28:09.849335Z"
    }
   },
   "outputs": [],
   "source": [
    "import matplotlib.pyplot as plt"
   ]
  },
  {
   "cell_type": "code",
   "execution_count": 81,
   "id": "a91664c5-98fd-4b71-98ac-aa7b377856cc",
   "metadata": {
    "ExecutionIndicator": {
     "show": true
    },
    "execution": {
     "iopub.execute_input": "2023-08-16T07:44:16.929207Z",
     "iopub.status.busy": "2023-08-16T07:44:16.928364Z",
     "iopub.status.idle": "2023-08-16T07:44:17.065973Z",
     "shell.execute_reply": "2023-08-16T07:44:17.065316Z",
     "shell.execute_reply.started": "2023-08-16T07:44:16.929176Z"
    },
    "tags": []
   },
   "outputs": [
    {
     "data": {
      "text/plain": [
       "<matplotlib.legend.Legend at 0x7ff1585d51c0>"
      ]
     },
     "execution_count": 81,
     "metadata": {},
     "output_type": "execute_result"
    },
    {
     "data": {
      "image/png": "[encoded data removed]",
      "text/plain": [
       "<Figure size 640x480 with 1 Axes>"
      ]
     },
     "metadata": {},
     "output_type": "display_data"
    }
   ],
   "source": [
    "f = open('./logs/resnet18_2023-08-16-14-57','r',encoding='utf-8')\n",
    "hist = eval(f.read())\n",
    "\n",
    "ep_arr = []\n",
    "train_acc = []\n",
    "val_acc = []\n",
    "\n",
    "for ep,info in hist.items():\n",
    "    ep_arr.append(ep)\n",
    "    train_acc.append(info[1])\n",
    "    val_acc.append(info[2])\n",
    "\n",
    "plt.plot(ep_arr,train_acc,marker='x',label='train accuracy')\n",
    "plt.plot(ep_arr,val_acc,marker='o',label='val_accuracy')\n",
    "plt.legend()"
   ]
  },
  {
   "cell_type": "markdown",
   "id": "aef99492-8a21-43af-a9e3-54c5107bec92",
   "metadata": {},
   "source": [
    "### 模型测试与提交"
   ]
  },
  {
   "cell_type": "code",
   "execution_count": 82,
   "id": "97eec688-1071-460b-95c2-f93a9bf1a638",
   "metadata": {
    "execution": {
     "iopub.execute_input": "2023-08-16T07:44:35.958719Z",
     "iopub.status.busy": "2023-08-16T07:44:35.958246Z",
     "iopub.status.idle": "2023-08-16T07:44:35.963788Z",
     "shell.execute_reply": "2023-08-16T07:44:35.963084Z",
     "shell.execute_reply.started": "2023-08-16T07:44:35.958692Z"
    }
   },
   "outputs": [],
   "source": [
    "def predict(test_loader, model, criterion):\n",
    "    model.eval()\n",
    "    val_acc = 0.0\n",
    "    test_pred = []\n",
    "    with torch.no_grad():\n",
    "        for i, (input, target) in enumerate(test_loader):\n",
    "            input = input.cuda()\n",
    "            target = target.cuda()\n",
    "            output = model(input)\n",
    "            test_pred.append(output.data.cpu().numpy())\n",
    "            \n",
    "    return np.vstack(test_pred)"
   ]
  },
  {
   "cell_type": "code",
   "execution_count": 93,
   "id": "3b081805-4827-4124-9f49-7dca4ac96901",
   "metadata": {
    "ExecutionIndicator": {
     "show": false
    },
    "execution": {
     "iopub.execute_input": "2023-08-16T07:49:25.953119Z",
     "iopub.status.busy": "2023-08-16T07:49:25.952618Z",
     "iopub.status.idle": "2023-08-16T07:49:44.951345Z",
     "shell.execute_reply": "2023-08-16T07:49:44.950349Z",
     "shell.execute_reply.started": "2023-08-16T07:49:25.953087Z"
    },
    "tags": []
   },
   "outputs": [],
   "source": [
    "# 加载训练好的模型\n",
    "model = model = XunFeiNet('resnet18')\n",
    "chep = torch.load('./model/resnet18_best.pth.tar')\n",
    "model.load_state_dict(chep['state_dict'])\n",
    "model.cuda()\n",
    "# 进行测试、转化结果并将其存到csv文件中\n",
    "pred = None\n",
    "for _ in range(10):\n",
    "    if pred is None:\n",
    "        pred = predict(test_loader, model, criterion)\n",
    "    else:\n",
    "        pred += predict(test_loader, model, criterion)\n",
    "        \n",
    "submit = pd.DataFrame(\n",
    "    {\n",
    "        'uuid': [int(x.split('/')[-1][:-4]) for x in test_path],\n",
    "        'label': pred.argmax(1)\n",
    "})\n",
    "submit['label'] = submit['label'].map({1:'NC', 0: 'MCI'})\n",
    "submit = submit.sort_values(by='uuid')\n",
    "submit.to_csv('submit2.csv', index=None)"
   ]
  },
  {
   "cell_type": "code",
   "execution_count": null,
   "id": "5521da95-8231-4bc6-ad5b-cc4a4c924877",
   "metadata": {},
   "outputs": [],
   "source": []
  }
 ],
 "metadata": {
  "kernelspec": {
   "display_name": "Python 3 (ipykernel)",
   "language": "python",
   "name": "python3"
  },
  "language_info": {
   "codemirror_mode": {
    "name": "ipython",
    "version": 3
   },
   "file_extension": ".py",
   "mimetype": "text/x-python",
   "name": "python",
   "nbconvert_exporter": "python",
   "pygments_lexer": "ipython3",
   "version": "3.9.15"
  }
 },
 "nbformat": 4,
 "nbformat_minor": 5
}
